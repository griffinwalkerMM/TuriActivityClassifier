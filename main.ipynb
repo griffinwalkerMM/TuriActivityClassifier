{
 "cells": [
  {
   "cell_type": "markdown",
   "metadata": {},
   "source": [
    "# **Activity Data Integration**\n",
    "This notebook is intended to show you how you might train your own model over some activity data. In this example, we took some data from [Viktor Malyi's 4 part article](https://towardsdatascience.com/run-or-walk-detecting-user-activity-with-machine-learning-and-core-ml-part-1-9658c0dcdd90) and formatted it such that the TuriCreate activity classifier function could accept it."
   ]
  },
  {
   "cell_type": "code",
   "execution_count": null,
   "metadata": {},
   "outputs": [
    {
     "name": "stdout",
     "output_type": "stream",
     "text": [
      "Looking in indexes: https://pypi.org/simple, https://pub-pypi.metismachine.io\n",
      "Collecting turicreate\n",
      "  Using cached https://files.pythonhosted.org/packages/3d/f2/2d4cb93072fbabe7b4785fb8fbc4cf652b91668eab9bb8baed3addf865b9/turicreate-5.1-cp36-cp36m-manylinux1_x86_64.whl\n",
      "Collecting mxnet<1.2.0,>=1.1.0 (from turicreate)\n",
      "  Using cached https://files.pythonhosted.org/packages/96/98/c9877e100c3d1ac92263bfaba7bb8a49294e099046592040a2ff8620ac61/mxnet-1.1.0.post0-py2.py3-none-manylinux1_x86_64.whl\n",
      "Collecting requests>=2.9.1 (from turicreate)\n",
      "  Using cached https://files.pythonhosted.org/packages/ff/17/5cbb026005115301a8fb2f9b0e3e8d32313142fe8b617070e7baad20554f/requests-2.20.1-py2.py3-none-any.whl\n",
      "Collecting numpy (from turicreate)\n",
      "  Using cached https://files.pythonhosted.org/packages/ff/7f/9d804d2348471c67a7d8b5f84f9bc59fd1cefa148986f2b74552f8573555/numpy-1.15.4-cp36-cp36m-manylinux1_x86_64.whl\n",
      "Collecting coremltools==2.0b1 (from turicreate)\n",
      "  Using cached https://files.pythonhosted.org/packages/1e/c3/18e669efcab8162bd65b00bc914c460097fe3dcb1862c572f2440bac526c/coremltools-2.0b1-cp36-none-manylinux1_x86_64.whl\n",
      "Collecting pandas>=0.19.0 (from turicreate)\n",
      "  Using cached https://files.pythonhosted.org/packages/e1/d8/feeb346d41f181e83fba45224ab14a8d8af019b48af742e047f3845d8cff/pandas-0.23.4-cp36-cp36m-manylinux1_x86_64.whl\n",
      "Collecting pillow>=3.3.0 (from turicreate)\n",
      "  Using cached https://files.pythonhosted.org/packages/62/94/5430ebaa83f91cc7a9f687ff5238e26164a779cca2ef9903232268b0a318/Pillow-5.3.0-cp36-cp36m-manylinux1_x86_64.whl\n",
      "Collecting decorator>=4.0.9 (from turicreate)\n",
      "  Using cached https://files.pythonhosted.org/packages/bc/bb/a24838832ba35baf52f32ab1a49b906b5f82fb7c76b2f6a7e35e140bac30/decorator-4.3.0-py2.py3-none-any.whl\n",
      "Collecting prettytable==0.7.2 (from turicreate)\n",
      "Collecting graphviz<0.9.0,>=0.8.1 (from mxnet<1.2.0,>=1.1.0->turicreate)\n",
      "  Using cached https://files.pythonhosted.org/packages/53/39/4ab213673844e0c004bed8a0781a0721a3f6bb23eb8854ee75c236428892/graphviz-0.8.4-py2.py3-none-any.whl\n",
      "Collecting chardet<3.1.0,>=3.0.2 (from requests>=2.9.1->turicreate)\n",
      "  Using cached https://files.pythonhosted.org/packages/bc/a9/01ffebfb562e4274b6487b4bb1ddec7ca55ec7510b22e4c51f14098443b8/chardet-3.0.4-py2.py3-none-any.whl\n",
      "Collecting idna<2.8,>=2.5 (from requests>=2.9.1->turicreate)\n",
      "  Using cached https://files.pythonhosted.org/packages/4b/2a/0276479a4b3caeb8a8c1af2f8e4355746a97fab05a372e4a2c6a6b876165/idna-2.7-py2.py3-none-any.whl\n",
      "Collecting urllib3<1.25,>=1.21.1 (from requests>=2.9.1->turicreate)\n",
      "  Using cached https://files.pythonhosted.org/packages/62/00/ee1d7de624db8ba7090d1226aebefab96a2c71cd5cfa7629d6ad3f61b79e/urllib3-1.24.1-py2.py3-none-any.whl\n",
      "Collecting certifi>=2017.4.17 (from requests>=2.9.1->turicreate)\n",
      "  Using cached https://files.pythonhosted.org/packages/56/9d/1d02dd80bc4cd955f98980f28c5ee2200e1209292d5f9e9cc8d030d18655/certifi-2018.10.15-py2.py3-none-any.whl\n",
      "Collecting protobuf>=3.1.0 (from coremltools==2.0b1->turicreate)\n",
      "  Using cached https://files.pythonhosted.org/packages/c2/f9/28787754923612ca9bfdffc588daa05580ed70698add063a5629d1a4209d/protobuf-3.6.1-cp36-cp36m-manylinux1_x86_64.whl\n",
      "Collecting six==1.10.0 (from coremltools==2.0b1->turicreate)\n",
      "  Using cached https://files.pythonhosted.org/packages/c8/0a/b6723e1bc4c516cb687841499455a8505b44607ab535be01091c0f24f079/six-1.10.0-py2.py3-none-any.whl\n",
      "Collecting python-dateutil>=2.5.0 (from pandas>=0.19.0->turicreate)\n",
      "  Using cached https://files.pythonhosted.org/packages/74/68/d87d9b36af36f44254a8d512cbfc48369103a3b9e474be9bdfe536abfc45/python_dateutil-2.7.5-py2.py3-none-any.whl\n",
      "Collecting pytz>=2011k (from pandas>=0.19.0->turicreate)\n",
      "  Using cached https://files.pythonhosted.org/packages/f8/0e/2365ddc010afb3d79147f1dd544e5ee24bf4ece58ab99b16fbb465ce6dc0/pytz-2018.7-py2.py3-none-any.whl\n",
      "Collecting setuptools (from protobuf>=3.1.0->coremltools==2.0b1->turicreate)\n",
      "  Using cached https://files.pythonhosted.org/packages/e7/16/da8cb8046149d50940c6110310983abb359bbb8cbc3539e6bef95c29428a/setuptools-40.6.2-py2.py3-none-any.whl\n",
      "\u001b[31mtwisted 18.7.0 requires PyHamcrest>=1.9.0, which is not installed.\u001b[0m\n",
      "\u001b[31mtwisted 18.7.0 has requirement Automat>=0.3.0, but you'll have automat 0.0.0 which is incompatible.\u001b[0m\n",
      "\u001b[31mskafossdk 1.1.9 has requirement requests==2.19.1, but you'll have requests 2.20.1 which is incompatible.\u001b[0m\n",
      "\u001b[31mskafossdk 1.1.9 has requirement urllib3==1.23, but you'll have urllib3 1.24.1 which is incompatible.\u001b[0m\n",
      "\u001b[31mmxnet 1.1.0.post0 has requirement numpy<1.15.0,>=1.8.2, but you'll have numpy 1.15.4 which is incompatible.\u001b[0m\n",
      "\u001b[31mmxnet 1.1.0.post0 has requirement requests<2.19.0,>=2.18.4, but you'll have requests 2.20.1 which is incompatible.\u001b[0m\n",
      "Installing collected packages: numpy, graphviz, chardet, idna, urllib3, certifi, requests, mxnet, setuptools, six, protobuf, coremltools, python-dateutil, pytz, pandas, pillow, decorator, prettytable, turicreate\n",
      "Successfully installed certifi-2018.10.15 chardet-3.0.4 coremltools-2.0b1 decorator-4.3.0 graphviz-0.8.4 idna-2.7 mxnet-1.1.0.post0 numpy-1.15.4 pandas-0.23.4 pillow-5.3.0 prettytable-0.7.2 protobuf-3.6.1 python-dateutil-2.7.5 pytz-2018.7 requests-2.20.1 setuptools-40.6.2 six-1.10.0 turicreate-5.1 urllib3-1.24.1\n"
     ]
    }
   ],
   "source": [
    "#%%capture\n",
    "!pip install turicreate --upgrade\n",
    "!pip install s3fs --upgrade\n",
    "import turicreate as tc\n",
    "from s3fs.core import S3FileSystem"
   ]
  },
  {
   "cell_type": "code",
   "execution_count": null,
   "metadata": {},
   "outputs": [],
   "source": [
    "import pandas as pd\n",
    "from datetime import datetime\n",
    "from skafossdk import *"
   ]
  },
  {
   "cell_type": "markdown",
   "metadata": {},
   "source": [
    "## **Read the Data**\n",
    "For simplicity, we loaded the data into an S3 bucket but the original source is [Viktor Malyi's Kaggle submission](https://www.kaggle.com/vmalyi/run-or-walk)"
   ]
  },
  {
   "cell_type": "code",
   "execution_count": null,
   "metadata": {},
   "outputs": [],
   "source": [
    "s3 = S3FileSystem(anon= True)\n",
    "file = s3.open(\"s3://skafos.example.data/running_walking.csv\", \"rb\")\n",
    "dat = pd.read_csv(file)"
   ]
  },
  {
   "cell_type": "markdown",
   "metadata": {},
   "source": [
    "## **Data Cleaning**\n",
    "We do some basic data cleaning to get it in a format for the Turi Create function to accept.\n",
    "\n",
    "- The major requirements for the Turi Create function are a session_id and activity label.\n",
    "- A session can be thought of as an experiment where the data is being collected on just one activity type. \n",
    "\n",
    "Because we have timestamps and not session ids, we try to back into a session column."
   ]
  },
  {
   "cell_type": "code",
   "execution_count": null,
   "metadata": {},
   "outputs": [],
   "source": [
    "# not necessary but for ease of interpretation, map the activities to names\n",
    "activity_map = {1 : 'running', 0: 'walking'}\n",
    "\n",
    "# clean up the date time field\n",
    "dat['time'] = dat['time'].astype(str).apply(lambda x: \":\".join(x.split(\":\")[0:3]))\n",
    "dat['date_time'] = dat['date'] + \" \" + dat['time']\n",
    "dat['date_time'] = dat['date_time'].apply(lambda x: datetime.strptime(x, \"%Y-%m-%d %H:%M:%S\"))\n",
    "\n",
    "# map the activities to names\n",
    "dat['activity'] = dat['activity'].apply(lambda x: activity_map[x])"
   ]
  },
  {
   "cell_type": "markdown",
   "metadata": {},
   "source": [
    "#### The below is a function that:\n",
    "- takes as input a dataframe\n",
    "- a time column name ( of type **`datetime`** or in the pandas world **`pandas._libs.tslibs.timestamps.Timestamp`** )\n",
    "- an activity column name\n",
    "- returns the same dataframe with a 'session_id' column.\n",
    "\n",
    "The function takes each row and assigns it a session based on how soon that record was timestamped after the previous record (controlling for actvity type)."
   ]
  },
  {
   "cell_type": "code",
   "execution_count": null,
   "metadata": {},
   "outputs": [],
   "source": [
    "def generate_session_ids(df, time_col, activity_col, threshold = 10):\n",
    "    \n",
    "    # sort the dataframe by activity and time, add an index column\n",
    "    temp_df = df.sort_values(by = [activity_col, time_col]).reset_index(drop = False)\n",
    "    \n",
    "    # create a list of index, time, activity objects\n",
    "    recs = list(temp_df.apply(lambda x: {'index' : x['index'], time_col :  x[time_col], activity_col : x[activity_col]}, axis = 1))\n",
    "    sessions = []; session_id = 0\n",
    "    # loop over the time, activity objects, assign \"session ids\" to those records that are within the time threshold\n",
    "    for i in range(len(recs)):\n",
    "        if (recs[i][time_col] - recs[i-1][time_col]).total_seconds() < threshold and recs[i][activity_col] == recs[i-1][activity_col]:\n",
    "            recs[i]['session_id'] = session_id\n",
    "            sessions.append(recs[i])\n",
    "        else:\n",
    "            session_id +=1 # up the session id\n",
    "            recs[i]['session_id'] = session_id\n",
    "            sessions.append(recs[i])\n",
    "    \n",
    "    # convert back to df, merge with original df \n",
    "    session_df = pd.DataFrame.from_records(sessions)\n",
    "    merged_df = pd.merge(temp_df, session_df, on = ['index', time_col, activity_col], how = 'left')\n",
    "    \n",
    "    # clean up the dataframe\n",
    "    del merged_df['index']\n",
    "    \n",
    "    return merged_df\n",
    "    "
   ]
  },
  {
   "cell_type": "markdown",
   "metadata": {},
   "source": [
    "- Here we generate the session ids and assign it back to the variable **`dat`**. \n",
    "- Finally we convert to an **`SFrame`**, the a TuriCreate data type similar to pandas dataframes"
   ]
  },
  {
   "cell_type": "code",
   "execution_count": null,
   "metadata": {},
   "outputs": [],
   "source": [
    "dat = generate_session_ids(dat, 'date_time', 'activity')\n",
    "dat = dat[['session_id', 'activity', 'acceleration_x', 'acceleration_y', 'acceleration_z', 'gyro_x', 'gyro_y', 'gyro_z']]\n",
    "dat = tc.SFrame(dat)"
   ]
  },
  {
   "cell_type": "markdown",
   "metadata": {},
   "source": [
    "## **Train the Model**\n",
    "\n",
    "The following is the same code as in the example. We have replaced the session_id argument and target argument with the appropriate column names in our new dataframe."
   ]
  }
 ],
 "metadata": {
  "kernelspec": {
   "display_name": "Python 3",
   "language": "python",
   "name": "python3"
  },
  "language_info": {
   "codemirror_mode": {
    "name": "ipython",
    "version": 3
   },
   "file_extension": ".py",
   "mimetype": "text/x-python",
   "name": "python",
   "nbconvert_exporter": "python",
   "pygments_lexer": "ipython3",
   "version": "3.6.5"
  }
 },
 "nbformat": 4,
 "nbformat_minor": 2
}
