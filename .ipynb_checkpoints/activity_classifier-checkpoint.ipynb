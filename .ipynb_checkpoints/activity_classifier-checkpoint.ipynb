{
 "cells": [
  {
   "cell_type": "code",
   "execution_count": null,
   "metadata": {},
   "outputs": [],
   "source": [
    "# Activity classifier prototype with Turi Create\n",
    "# Based on example from https://apple.github.io/turicreate/docs/userguide/activity_classifier/\n",
    "import turicreate as tc\n",
    "#from skafossdk import *\n",
    "import sys\n",
    "import pandas as pd\n",
    "from common.load_data import ActivityData\n",
    "\n",
    "#ska = Skafos() # initialize Skafos\n",
    "activity_data = ActivityData() # load data loading class\n",
    "#ska.log(\"Grabbing the data\", labels = ['activity_classifier'])\n",
    "data = activity_data.get_data()\n",
    "\n",
    "\n",
    "# don't use GPU for now\n",
    "tc.config.set_num_gpus(0)\n",
    "\n",
    "# get the data\n",
    "#ska.log(\"Grabbing the data from the public S3 bucket\", labels = ['activity_classifier'])\n",
    "\n",
    "#Train/test split for modeling\n",
    "#ska.log(\"Splitting the data for modeling\", labels = [\"activity_classifier\"])\n",
    "train, test = tc.activity_classifier.util.random_split_by_session(data, session_id='Experiment', fraction=0.8)\n",
    "\n",
    "# Create an activity classifier\n",
    "#ska.log(\"Creating the activity classifier\", labels = [\"activity_classifier\"])\n",
    "model = tc.activity_classifier.create(train, session_id='Experiment', target='Activity', prediction_window=50)\n",
    "\n",
    "#ska.log(\"Evaluating the activity classifier model\", labels = ['acitivity_classifier'])\n",
    "# Evaluate the model and save the results into a dictionary\n",
    "metrics = model.evaluate(test)\n",
    "\n",
    "#ska.log(f\"Accuracy metrics from the model: {metrics['accuracy']}\", labels = ['activity_classifier'])"
   ]
  }
 ],
 "metadata": {
  "kernelspec": {
   "display_name": "Python 3",
   "language": "python",
   "name": "python3"
  },
  "language_info": {
   "codemirror_mode": {
    "name": "ipython",
    "version": 3
   },
   "file_extension": ".py",
   "mimetype": "text/x-python",
   "name": "python",
   "nbconvert_exporter": "python",
   "pygments_lexer": "ipython3",
   "version": "3.6.6"
  }
 },
 "nbformat": 4,
 "nbformat_minor": 2
}
